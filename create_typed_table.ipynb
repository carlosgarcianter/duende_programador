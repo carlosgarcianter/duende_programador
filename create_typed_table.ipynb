{
  "nbformat": 4,
  "nbformat_minor": 0,
  "metadata": {
    "colab": {
      "provenance": [],
      "include_colab_link": true
    },
    "kernelspec": {
      "name": "python3",
      "display_name": "Python 3"
    },
    "language_info": {
      "name": "python"
    }
  },
  "cells": [
    {
      "cell_type": "markdown",
      "metadata": {
        "id": "view-in-github",
        "colab_type": "text"
      },
      "source": [
        "<a href=\"https://colab.research.google.com/github/carlosgarcianter/duende_programador/blob/main/create_typed_table.ipynb\" target=\"_parent\"><img src=\"https://colab.research.google.com/assets/colab-badge.svg\" alt=\"Open In Colab\"/></a>"
      ]
    },
    {
      "cell_type": "code",
      "source": [
        "PROJECT = \"dev-bbva-duco-dashboard\"\n",
        "DATASET = \"reconciliations\"\n",
        "TABLE_NAME = \"[PROCESS_CODE]\""
      ],
      "metadata": {
        "id": "141QxRcI1z2z"
      },
      "execution_count": null,
      "outputs": []
    },
    {
      "cell_type": "code",
      "execution_count": null,
      "metadata": {
        "id": "qPlTwgz0m3hm"
      },
      "outputs": [],
      "source": []
    },
    {
      "cell_type": "code",
      "source": [
        "common_fields = {\n",
        "  \"Id\":                   \"r.url_id\",\n",
        "  \"Process_Code\":         \"r.process_id\",\n",
        "  \"Run_Id\":               \"CAST(r.run_number AS INTEGER) AS Run_Id\",\n",
        "  \"Roll_Up_Relationship\": \"r.roll_up_relationship\",\n",
        "  \"Workflow\":             \"e.workflow\",\n",
        "  \"Status\":               \"r.status\",\n",
        "  \"Group\":                \"e.group_id\",\n",
        "  \"Assigned_To\":          \"e.assigned_to_user_id\",\n",
        "  \"Ageing_Started_At\":    \"e.creation_timestamp\",\n",
        "  \"Age_As_At_Export\":     \"CAST(e.age AS FLOAT) as Age_As_At_Export\",\n",
        "  \"Resolved_By\":          \"e.resolved_by_user_id\",\n",
        "  \"Latest_Activity        \": \"'' AS Latest_Activity\",\n",
        "  \"Score\":                \"r.score\",\n",
        "  \"Input\":                \"r.input\",\n",
        "  \"Labels\":               \"l.labels AS Labels\",\n",
        "}\n",
        "\n",
        "common_fields_clean = {\n",
        "  \"Id\":                   \"STRING\",\n",
        "  \"Process_Code\":         \"STRING\",\n",
        "  \"Run_Id\":               \"INT64\",\n",
        "  \"Roll_Up_Relationship\": \"STRING\",\n",
        "  \"Workflow\":             \"STRING\",\n",
        "  \"Status\":               \"STRING\",\n",
        "  \"Group\":                \"STRING\",\n",
        "  \"Assigned_To\":          \"STRING\",\n",
        "  \"Ageing_Started_At\":    \"DATETIME\",\n",
        "  \"Age_As_At_Export\":     \"FLOAT64\",\n",
        "  \"Resolved_By\":          \"STRING\",\n",
        "  \"Latest_Activity\":      \"STRING\",\n",
        "  \"Score\":                \"FLOAT64\",\n",
        "  \"Input\":                \"STRING\",\n",
        "  \"Labels\":               \"STRING\",\n",
        "}"
      ],
      "metadata": {
        "id": "RY6C385ow3hz"
      },
      "execution_count": null,
      "outputs": []
    },
    {
      "cell_type": "code",
      "source": [
        "last_common_fields = {\n",
        "  \"Fecha_Ejecucion\":  \"r.update_timestamp AS Fecha_Ejecucion\",\n",
        "}\n",
        "\n",
        "last_common_clean = {\n",
        "    \"Fecha_Ejecucion\":  \"DATETIME\",\n",
        "}"
      ],
      "metadata": {
        "id": "lvLOG1voxAGo"
      },
      "execution_count": null,
      "outputs": []
    },
    {
      "cell_type": "code",
      "source": [
        "\n",
        "\n",
        "matched_fields_clean = {}\n",
        "for k, v in matched_fields.items():\n",
        "    new_v = v\n",
        "    new_v = new_v.replace(\"r.\", \"\")\n",
        "    matched_fields_clean[k] = new_v\n",
        "\n",
        "left_fields_clean = {}\n",
        "for k, v in left_fields.items():\n",
        "    new_v = v\n",
        "    new_v = new_v.replace(\"r.rl_\", \"\")\n",
        "    left_fields_clean[k] = new_v\n",
        "\n",
        "right_fields_clean = {}\n",
        "for k, v in right_fields.items():\n",
        "    new_v = v\n",
        "    new_v = new_v.replace(\"r.rr_\", \"\")\n",
        "    right_fields_clean[k] = new_v\n",
        "\n",
        "calculated_fields_clean = {}\n",
        "for k, v in calculated_fields.items():\n",
        "    new_v = v\n",
        "    new_v = new_v.replace(\"r.cf_\", \"\")\n",
        "    calculated_fields_clean[k] = new_v\n",
        "\n",
        "rules = {\n",
        "    \"b_\": \"BOOLEAN\",\n",
        "    \"d_\": \"DATE\",\n",
        "    \"dt_\": \"DATETIME\",\n",
        "    \"f_\": \"FLOAT64\",\n",
        "    \"i_\": \"INT64\",\n",
        "    \"s_\": \"STRING\",\n",
        "    \"t_\": \"TIME\",\n",
        "}\n",
        "\n",
        "typed_recon_fields = {}\n",
        "for k, v in (matched_fields_clean|left_fields_clean|right_fields_clean|calculated_fields_clean).items():\n",
        "    tipo = None\n",
        "    for prefix, t in rules.items():\n",
        "        if v.startswith(prefix):\n",
        "            tipo = t\n",
        "            break\n",
        "    typed_recon_fields[k] = tipo if tipo else \"UNKNOWN\"\n",
        "\n",
        "rename_fields = {}\n",
        "for k, v in typed_recon_fields.items():\n",
        "    if v == \"FLOAT64\":\n",
        "        new_key = f\"{k}\"\n",
        "    elif v == \"INT64\":\n",
        "        new_key = f\"{k}\"\n",
        "    else:\n",
        "        new_key = k\n",
        "    rename_fields[new_key] = v\n",
        "\n",
        "params = \",\\n\\t\".join(f\"`{k}` {v}\" for k, v in (common_fields_clean|rename_fields|last_common_clean).items())\n",
        "\n",
        "third_query = f\"\"\"\n",
        "  CREATE TABLE `{PROJECT}.{DATASET}.{TABLE_NAME}` (\n",
        "    \\t{params}\n",
        "  )\n",
        "\"\"\"\n",
        "\n",
        "query = third_query\n",
        "print(query)"
      ],
      "metadata": {
        "id": "YHGL6waHI7VV"
      },
      "execution_count": null,
      "outputs": []
    }
  ]
}